{
 "cells": [
  {
   "cell_type": "code",
   "execution_count": 53,
   "metadata": {},
   "outputs": [
    {
     "name": "stdout",
     "output_type": "stream",
     "text": [
      "MuJoCo:[3.1.6]\n"
     ]
    }
   ],
   "source": [
    "import mujoco,sys\n",
    "import numpy as np\n",
    "import matplotlib.pyplot as plt\n",
    "import time\n",
    "sys.path.append('../package/helper/')\n",
    "sys.path.append('../package/mujoco_usage/')\n",
    "from mujoco_parser import *\n",
    "from transformation import *\n",
    "from slider import *\n",
    "from utility import *\n",
    "\n",
    "np.set_printoptions(precision=2,suppress=True,linewidth=100)\n",
    "plt.rc('xtick',labelsize=6); plt.rc('ytick',labelsize=6)\n",
    "%config InlineBackend.figure_format = 'retina'\n",
    "%matplotlib inline\n",
    "print (\"MuJoCo:[%s]\"%(mujoco.__version__))"
   ]
  },
  {
   "cell_type": "code",
   "execution_count": null,
   "metadata": {},
   "outputs": [
    {
     "name": "stdout",
     "output_type": "stream",
     "text": [
      "name:[Tabletop] dt:[0.002] HZ:[500]\n",
      "n_qpos:[9] n_qvel:[8] n_qacc:[8] n_ctrl:[2]\n",
      "\n",
      "n_body:[19]\n",
      " [0/19] [world] mass:[0.00]kg\n",
      " [1/19] [base_kobuki] mass:[2.00]kg\n",
      " [2/19] [rplidar] mass:[0.24]kg\n",
      " [3/19] [d435i_mount] mass:[0.00]kg\n",
      " [4/19] [realsense] mass:[0.00]kg\n",
      " [5/19] [d435i] mass:[0.11]kg\n",
      " [6/19] [wheel_left_link] mass:[0.10]kg\n",
      " [7/19] [wheel_right_link] mass:[0.10]kg\n",
      " [8/19] [front_wheel_fake] mass:[0.10]kg\n",
      " [9/19] [rear_wheel_fake] mass:[0.10]kg\n",
      " [10/19] [floor] mass:[960.00]kg\n",
      " [11/19] [wall_horizon_1] mass:[320.00]kg\n",
      " [12/19] [wall_horizon_2] mass:[160.00]kg\n",
      " [13/19] [wall_horizon_3] mass:[160.00]kg\n",
      " [14/19] [wall_horizon_4] mass:[320.00]kg\n",
      " [15/19] [wall_vertical_1] mass:[160.00]kg\n",
      " [16/19] [wall_vertical_2] mass:[160.00]kg\n",
      " [17/19] [wall_vertical_3] mass:[160.00]kg\n",
      " [18/19] [wall_vertical_4] mass:[160.00]kg\n",
      "body_total_mass:[2562.75]kg\n",
      "\n",
      "n_geom:[25]\n",
      "geom_names:[None, 'rplidar', None, None, None, None, None, None, None, None, None, None, None, None, None, None, 'floor_geom', 'wall_horizon_1_geom', 'wall_horizon_2_geom', 'wall_horizon_3_geom', 'wall_horizon_4_geom', 'wall_vertical_1_geom', 'wall_vertical_2_geom', 'wall_vertical_3_geom', 'wall_vertical_4_geom']\n",
      "\n",
      "n_joint:[3]\n",
      " [0/3] [base_kobuki_joint] axis:[0. 0. 1.]\n",
      " [1/3] [wheel_left_joint] axis:[0. 0. 1.]\n",
      " [2/3] [wheel_right_joint] axis:[0. 0. 1.]\n",
      "\n",
      "n_dof:[8] (=number of rows of Jacobian)\n",
      " [0/8] [None] attached joint:[base_kobuki_joint] body:[base_kobuki]\n",
      " [1/8] [None] attached joint:[base_kobuki_joint] body:[base_kobuki]\n",
      " [2/8] [None] attached joint:[base_kobuki_joint] body:[base_kobuki]\n",
      " [3/8] [None] attached joint:[base_kobuki_joint] body:[base_kobuki]\n",
      " [4/8] [None] attached joint:[base_kobuki_joint] body:[base_kobuki]\n",
      " [5/8] [None] attached joint:[base_kobuki_joint] body:[base_kobuki]\n",
      " [6/8] [None] attached joint:[wheel_left_joint] body:[wheel_left_link]\n",
      " [7/8] [None] attached joint:[wheel_right_joint] body:[wheel_right_link]\n",
      "\n",
      "Free joint information. n_free_joint:[1]\n",
      " [0/1] [base_kobuki_joint] body_name_attached:[base_kobuki]\n",
      "\n",
      "Revolute joint information. n_rev_joint:[2]\n",
      " [0/2] [wheel_left_joint] range:[0.000]~[0.000]\n",
      " [1/2] [wheel_right_joint] range:[0.000]~[0.000]\n",
      "\n",
      "Prismatic joint information. n_pri_joint:[0]\n",
      "\n",
      "Control information. n_ctrl:[2]\n",
      " [0/2] [wheel_left_actuator] range:[-20.000]~[20.000] gear:[1.00] type:[JOINT]\n",
      " [1/2] [wheel_right_actuator] range:[-20.000]~[20.000] gear:[1.00] type:[JOINT]\n",
      "\n",
      "n_sensor:[360]\n",
      "sensor_names:['rangefinder_0', 'rangefinder_1', 'rangefinder_2', 'rangefinder_3', 'rangefinder_4', 'rangefinder_5', 'rangefinder_6', 'rangefinder_7', 'rangefinder_8', 'rangefinder_9', 'rangefinder_10', 'rangefinder_11', 'rangefinder_12', 'rangefinder_13', 'rangefinder_14', 'rangefinder_15', 'rangefinder_16', 'rangefinder_17', 'rangefinder_18', 'rangefinder_19', 'rangefinder_20', 'rangefinder_21', 'rangefinder_22', 'rangefinder_23', 'rangefinder_24', 'rangefinder_25', 'rangefinder_26', 'rangefinder_27', 'rangefinder_28', 'rangefinder_29', 'rangefinder_30', 'rangefinder_31', 'rangefinder_32', 'rangefinder_33', 'rangefinder_34', 'rangefinder_35', 'rangefinder_36', 'rangefinder_37', 'rangefinder_38', 'rangefinder_39', 'rangefinder_40', 'rangefinder_41', 'rangefinder_42', 'rangefinder_43', 'rangefinder_44', 'rangefinder_45', 'rangefinder_46', 'rangefinder_47', 'rangefinder_48', 'rangefinder_49', 'rangefinder_50', 'rangefinder_51', 'rangefinder_52', 'rangefinder_53', 'rangefinder_54', 'rangefinder_55', 'rangefinder_56', 'rangefinder_57', 'rangefinder_58', 'rangefinder_59', 'rangefinder_60', 'rangefinder_61', 'rangefinder_62', 'rangefinder_63', 'rangefinder_64', 'rangefinder_65', 'rangefinder_66', 'rangefinder_67', 'rangefinder_68', 'rangefinder_69', 'rangefinder_70', 'rangefinder_71', 'rangefinder_72', 'rangefinder_73', 'rangefinder_74', 'rangefinder_75', 'rangefinder_76', 'rangefinder_77', 'rangefinder_78', 'rangefinder_79', 'rangefinder_80', 'rangefinder_81', 'rangefinder_82', 'rangefinder_83', 'rangefinder_84', 'rangefinder_85', 'rangefinder_86', 'rangefinder_87', 'rangefinder_88', 'rangefinder_89', 'rangefinder_90', 'rangefinder_91', 'rangefinder_92', 'rangefinder_93', 'rangefinder_94', 'rangefinder_95', 'rangefinder_96', 'rangefinder_97', 'rangefinder_98', 'rangefinder_99', 'rangefinder_100', 'rangefinder_101', 'rangefinder_102', 'rangefinder_103', 'rangefinder_104', 'rangefinder_105', 'rangefinder_106', 'rangefinder_107', 'rangefinder_108', 'rangefinder_109', 'rangefinder_110', 'rangefinder_111', 'rangefinder_112', 'rangefinder_113', 'rangefinder_114', 'rangefinder_115', 'rangefinder_116', 'rangefinder_117', 'rangefinder_118', 'rangefinder_119', 'rangefinder_120', 'rangefinder_121', 'rangefinder_122', 'rangefinder_123', 'rangefinder_124', 'rangefinder_125', 'rangefinder_126', 'rangefinder_127', 'rangefinder_128', 'rangefinder_129', 'rangefinder_130', 'rangefinder_131', 'rangefinder_132', 'rangefinder_133', 'rangefinder_134', 'rangefinder_135', 'rangefinder_136', 'rangefinder_137', 'rangefinder_138', 'rangefinder_139', 'rangefinder_140', 'rangefinder_141', 'rangefinder_142', 'rangefinder_143', 'rangefinder_144', 'rangefinder_145', 'rangefinder_146', 'rangefinder_147', 'rangefinder_148', 'rangefinder_149', 'rangefinder_150', 'rangefinder_151', 'rangefinder_152', 'rangefinder_153', 'rangefinder_154', 'rangefinder_155', 'rangefinder_156', 'rangefinder_157', 'rangefinder_158', 'rangefinder_159', 'rangefinder_160', 'rangefinder_161', 'rangefinder_162', 'rangefinder_163', 'rangefinder_164', 'rangefinder_165', 'rangefinder_166', 'rangefinder_167', 'rangefinder_168', 'rangefinder_169', 'rangefinder_170', 'rangefinder_171', 'rangefinder_172', 'rangefinder_173', 'rangefinder_174', 'rangefinder_175', 'rangefinder_176', 'rangefinder_177', 'rangefinder_178', 'rangefinder_179', 'rangefinder_180', 'rangefinder_181', 'rangefinder_182', 'rangefinder_183', 'rangefinder_184', 'rangefinder_185', 'rangefinder_186', 'rangefinder_187', 'rangefinder_188', 'rangefinder_189', 'rangefinder_190', 'rangefinder_191', 'rangefinder_192', 'rangefinder_193', 'rangefinder_194', 'rangefinder_195', 'rangefinder_196', 'rangefinder_197', 'rangefinder_198', 'rangefinder_199', 'rangefinder_200', 'rangefinder_201', 'rangefinder_202', 'rangefinder_203', 'rangefinder_204', 'rangefinder_205', 'rangefinder_206', 'rangefinder_207', 'rangefinder_208', 'rangefinder_209', 'rangefinder_210', 'rangefinder_211', 'rangefinder_212', 'rangefinder_213', 'rangefinder_214', 'rangefinder_215', 'rangefinder_216', 'rangefinder_217', 'rangefinder_218', 'rangefinder_219', 'rangefinder_220', 'rangefinder_221', 'rangefinder_222', 'rangefinder_223', 'rangefinder_224', 'rangefinder_225', 'rangefinder_226', 'rangefinder_227', 'rangefinder_228', 'rangefinder_229', 'rangefinder_230', 'rangefinder_231', 'rangefinder_232', 'rangefinder_233', 'rangefinder_234', 'rangefinder_235', 'rangefinder_236', 'rangefinder_237', 'rangefinder_238', 'rangefinder_239', 'rangefinder_240', 'rangefinder_241', 'rangefinder_242', 'rangefinder_243', 'rangefinder_244', 'rangefinder_245', 'rangefinder_246', 'rangefinder_247', 'rangefinder_248', 'rangefinder_249', 'rangefinder_250', 'rangefinder_251', 'rangefinder_252', 'rangefinder_253', 'rangefinder_254', 'rangefinder_255', 'rangefinder_256', 'rangefinder_257', 'rangefinder_258', 'rangefinder_259', 'rangefinder_260', 'rangefinder_261', 'rangefinder_262', 'rangefinder_263', 'rangefinder_264', 'rangefinder_265', 'rangefinder_266', 'rangefinder_267', 'rangefinder_268', 'rangefinder_269', 'rangefinder_270', 'rangefinder_271', 'rangefinder_272', 'rangefinder_273', 'rangefinder_274', 'rangefinder_275', 'rangefinder_276', 'rangefinder_277', 'rangefinder_278', 'rangefinder_279', 'rangefinder_280', 'rangefinder_281', 'rangefinder_282', 'rangefinder_283', 'rangefinder_284', 'rangefinder_285', 'rangefinder_286', 'rangefinder_287', 'rangefinder_288', 'rangefinder_289', 'rangefinder_290', 'rangefinder_291', 'rangefinder_292', 'rangefinder_293', 'rangefinder_294', 'rangefinder_295', 'rangefinder_296', 'rangefinder_297', 'rangefinder_298', 'rangefinder_299', 'rangefinder_300', 'rangefinder_301', 'rangefinder_302', 'rangefinder_303', 'rangefinder_304', 'rangefinder_305', 'rangefinder_306', 'rangefinder_307', 'rangefinder_308', 'rangefinder_309', 'rangefinder_310', 'rangefinder_311', 'rangefinder_312', 'rangefinder_313', 'rangefinder_314', 'rangefinder_315', 'rangefinder_316', 'rangefinder_317', 'rangefinder_318', 'rangefinder_319', 'rangefinder_320', 'rangefinder_321', 'rangefinder_322', 'rangefinder_323', 'rangefinder_324', 'rangefinder_325', 'rangefinder_326', 'rangefinder_327', 'rangefinder_328', 'rangefinder_329', 'rangefinder_330', 'rangefinder_331', 'rangefinder_332', 'rangefinder_333', 'rangefinder_334', 'rangefinder_335', 'rangefinder_336', 'rangefinder_337', 'rangefinder_338', 'rangefinder_339', 'rangefinder_340', 'rangefinder_341', 'rangefinder_342', 'rangefinder_343', 'rangefinder_344', 'rangefinder_345', 'rangefinder_346', 'rangefinder_347', 'rangefinder_348', 'rangefinder_349', 'rangefinder_350', 'rangefinder_351', 'rangefinder_352', 'rangefinder_353', 'rangefinder_354', 'rangefinder_355', 'rangefinder_356', 'rangefinder_357', 'rangefinder_358', 'rangefinder_359']\n",
      "n_site:[360]\n",
      "site_names:['rangefinder_site_0', 'rangefinder_site_1', 'rangefinder_site_2', 'rangefinder_site_3', 'rangefinder_site_4', 'rangefinder_site_5', 'rangefinder_site_6', 'rangefinder_site_7', 'rangefinder_site_8', 'rangefinder_site_9', 'rangefinder_site_10', 'rangefinder_site_11', 'rangefinder_site_12', 'rangefinder_site_13', 'rangefinder_site_14', 'rangefinder_site_15', 'rangefinder_site_16', 'rangefinder_site_17', 'rangefinder_site_18', 'rangefinder_site_19', 'rangefinder_site_20', 'rangefinder_site_21', 'rangefinder_site_22', 'rangefinder_site_23', 'rangefinder_site_24', 'rangefinder_site_25', 'rangefinder_site_26', 'rangefinder_site_27', 'rangefinder_site_28', 'rangefinder_site_29', 'rangefinder_site_30', 'rangefinder_site_31', 'rangefinder_site_32', 'rangefinder_site_33', 'rangefinder_site_34', 'rangefinder_site_35', 'rangefinder_site_36', 'rangefinder_site_37', 'rangefinder_site_38', 'rangefinder_site_39', 'rangefinder_site_40', 'rangefinder_site_41', 'rangefinder_site_42', 'rangefinder_site_43', 'rangefinder_site_44', 'rangefinder_site_45', 'rangefinder_site_46', 'rangefinder_site_47', 'rangefinder_site_48', 'rangefinder_site_49', 'rangefinder_site_50', 'rangefinder_site_51', 'rangefinder_site_52', 'rangefinder_site_53', 'rangefinder_site_54', 'rangefinder_site_55', 'rangefinder_site_56', 'rangefinder_site_57', 'rangefinder_site_58', 'rangefinder_site_59', 'rangefinder_site_60', 'rangefinder_site_61', 'rangefinder_site_62', 'rangefinder_site_63', 'rangefinder_site_64', 'rangefinder_site_65', 'rangefinder_site_66', 'rangefinder_site_67', 'rangefinder_site_68', 'rangefinder_site_69', 'rangefinder_site_70', 'rangefinder_site_71', 'rangefinder_site_72', 'rangefinder_site_73', 'rangefinder_site_74', 'rangefinder_site_75', 'rangefinder_site_76', 'rangefinder_site_77', 'rangefinder_site_78', 'rangefinder_site_79', 'rangefinder_site_80', 'rangefinder_site_81', 'rangefinder_site_82', 'rangefinder_site_83', 'rangefinder_site_84', 'rangefinder_site_85', 'rangefinder_site_86', 'rangefinder_site_87', 'rangefinder_site_88', 'rangefinder_site_89', 'rangefinder_site_90', 'rangefinder_site_91', 'rangefinder_site_92', 'rangefinder_site_93', 'rangefinder_site_94', 'rangefinder_site_95', 'rangefinder_site_96', 'rangefinder_site_97', 'rangefinder_site_98', 'rangefinder_site_99', 'rangefinder_site_100', 'rangefinder_site_101', 'rangefinder_site_102', 'rangefinder_site_103', 'rangefinder_site_104', 'rangefinder_site_105', 'rangefinder_site_106', 'rangefinder_site_107', 'rangefinder_site_108', 'rangefinder_site_109', 'rangefinder_site_110', 'rangefinder_site_111', 'rangefinder_site_112', 'rangefinder_site_113', 'rangefinder_site_114', 'rangefinder_site_115', 'rangefinder_site_116', 'rangefinder_site_117', 'rangefinder_site_118', 'rangefinder_site_119', 'rangefinder_site_120', 'rangefinder_site_121', 'rangefinder_site_122', 'rangefinder_site_123', 'rangefinder_site_124', 'rangefinder_site_125', 'rangefinder_site_126', 'rangefinder_site_127', 'rangefinder_site_128', 'rangefinder_site_129', 'rangefinder_site_130', 'rangefinder_site_131', 'rangefinder_site_132', 'rangefinder_site_133', 'rangefinder_site_134', 'rangefinder_site_135', 'rangefinder_site_136', 'rangefinder_site_137', 'rangefinder_site_138', 'rangefinder_site_139', 'rangefinder_site_140', 'rangefinder_site_141', 'rangefinder_site_142', 'rangefinder_site_143', 'rangefinder_site_144', 'rangefinder_site_145', 'rangefinder_site_146', 'rangefinder_site_147', 'rangefinder_site_148', 'rangefinder_site_149', 'rangefinder_site_150', 'rangefinder_site_151', 'rangefinder_site_152', 'rangefinder_site_153', 'rangefinder_site_154', 'rangefinder_site_155', 'rangefinder_site_156', 'rangefinder_site_157', 'rangefinder_site_158', 'rangefinder_site_159', 'rangefinder_site_160', 'rangefinder_site_161', 'rangefinder_site_162', 'rangefinder_site_163', 'rangefinder_site_164', 'rangefinder_site_165', 'rangefinder_site_166', 'rangefinder_site_167', 'rangefinder_site_168', 'rangefinder_site_169', 'rangefinder_site_170', 'rangefinder_site_171', 'rangefinder_site_172', 'rangefinder_site_173', 'rangefinder_site_174', 'rangefinder_site_175', 'rangefinder_site_176', 'rangefinder_site_177', 'rangefinder_site_178', 'rangefinder_site_179', 'rangefinder_site_180', 'rangefinder_site_181', 'rangefinder_site_182', 'rangefinder_site_183', 'rangefinder_site_184', 'rangefinder_site_185', 'rangefinder_site_186', 'rangefinder_site_187', 'rangefinder_site_188', 'rangefinder_site_189', 'rangefinder_site_190', 'rangefinder_site_191', 'rangefinder_site_192', 'rangefinder_site_193', 'rangefinder_site_194', 'rangefinder_site_195', 'rangefinder_site_196', 'rangefinder_site_197', 'rangefinder_site_198', 'rangefinder_site_199', 'rangefinder_site_200', 'rangefinder_site_201', 'rangefinder_site_202', 'rangefinder_site_203', 'rangefinder_site_204', 'rangefinder_site_205', 'rangefinder_site_206', 'rangefinder_site_207', 'rangefinder_site_208', 'rangefinder_site_209', 'rangefinder_site_210', 'rangefinder_site_211', 'rangefinder_site_212', 'rangefinder_site_213', 'rangefinder_site_214', 'rangefinder_site_215', 'rangefinder_site_216', 'rangefinder_site_217', 'rangefinder_site_218', 'rangefinder_site_219', 'rangefinder_site_220', 'rangefinder_site_221', 'rangefinder_site_222', 'rangefinder_site_223', 'rangefinder_site_224', 'rangefinder_site_225', 'rangefinder_site_226', 'rangefinder_site_227', 'rangefinder_site_228', 'rangefinder_site_229', 'rangefinder_site_230', 'rangefinder_site_231', 'rangefinder_site_232', 'rangefinder_site_233', 'rangefinder_site_234', 'rangefinder_site_235', 'rangefinder_site_236', 'rangefinder_site_237', 'rangefinder_site_238', 'rangefinder_site_239', 'rangefinder_site_240', 'rangefinder_site_241', 'rangefinder_site_242', 'rangefinder_site_243', 'rangefinder_site_244', 'rangefinder_site_245', 'rangefinder_site_246', 'rangefinder_site_247', 'rangefinder_site_248', 'rangefinder_site_249', 'rangefinder_site_250', 'rangefinder_site_251', 'rangefinder_site_252', 'rangefinder_site_253', 'rangefinder_site_254', 'rangefinder_site_255', 'rangefinder_site_256', 'rangefinder_site_257', 'rangefinder_site_258', 'rangefinder_site_259', 'rangefinder_site_260', 'rangefinder_site_261', 'rangefinder_site_262', 'rangefinder_site_263', 'rangefinder_site_264', 'rangefinder_site_265', 'rangefinder_site_266', 'rangefinder_site_267', 'rangefinder_site_268', 'rangefinder_site_269', 'rangefinder_site_270', 'rangefinder_site_271', 'rangefinder_site_272', 'rangefinder_site_273', 'rangefinder_site_274', 'rangefinder_site_275', 'rangefinder_site_276', 'rangefinder_site_277', 'rangefinder_site_278', 'rangefinder_site_279', 'rangefinder_site_280', 'rangefinder_site_281', 'rangefinder_site_282', 'rangefinder_site_283', 'rangefinder_site_284', 'rangefinder_site_285', 'rangefinder_site_286', 'rangefinder_site_287', 'rangefinder_site_288', 'rangefinder_site_289', 'rangefinder_site_290', 'rangefinder_site_291', 'rangefinder_site_292', 'rangefinder_site_293', 'rangefinder_site_294', 'rangefinder_site_295', 'rangefinder_site_296', 'rangefinder_site_297', 'rangefinder_site_298', 'rangefinder_site_299', 'rangefinder_site_300', 'rangefinder_site_301', 'rangefinder_site_302', 'rangefinder_site_303', 'rangefinder_site_304', 'rangefinder_site_305', 'rangefinder_site_306', 'rangefinder_site_307', 'rangefinder_site_308', 'rangefinder_site_309', 'rangefinder_site_310', 'rangefinder_site_311', 'rangefinder_site_312', 'rangefinder_site_313', 'rangefinder_site_314', 'rangefinder_site_315', 'rangefinder_site_316', 'rangefinder_site_317', 'rangefinder_site_318', 'rangefinder_site_319', 'rangefinder_site_320', 'rangefinder_site_321', 'rangefinder_site_322', 'rangefinder_site_323', 'rangefinder_site_324', 'rangefinder_site_325', 'rangefinder_site_326', 'rangefinder_site_327', 'rangefinder_site_328', 'rangefinder_site_329', 'rangefinder_site_330', 'rangefinder_site_331', 'rangefinder_site_332', 'rangefinder_site_333', 'rangefinder_site_334', 'rangefinder_site_335', 'rangefinder_site_336', 'rangefinder_site_337', 'rangefinder_site_338', 'rangefinder_site_339', 'rangefinder_site_340', 'rangefinder_site_341', 'rangefinder_site_342', 'rangefinder_site_343', 'rangefinder_site_344', 'rangefinder_site_345', 'rangefinder_site_346', 'rangefinder_site_347', 'rangefinder_site_348', 'rangefinder_site_349', 'rangefinder_site_350', 'rangefinder_site_351', 'rangefinder_site_352', 'rangefinder_site_353', 'rangefinder_site_354', 'rangefinder_site_355', 'rangefinder_site_356', 'rangefinder_site_357', 'rangefinder_site_358', 'rangefinder_site_359']\n",
      "Done.\n"
     ]
    }
   ],
   "source": [
    "preprocessed_xml_name = \"../xml/scene.xml\"\n",
    "mujoco_env = MuJoCoParserClass(name='Tabletop',rel_xml_path=preprocessed_xml_name,verbose=True)\n",
    "print (\"Done.\")\n",
    "\n",
    "# Reset\n",
    "mujoco_env.reset()\n",
    "\n",
    "mujoco_env.set_p_base_body(body_name='base_kobuki',p=np.array([-1,-2,0]))\n",
    "mujoco_env.forward()\n",
    "# Loop\n",
    "mujoco_env.init_viewer(title='None',\n",
    "                transparent=False,distance=3.0)\n",
    "\n",
    "while mujoco_env.is_viewer_alive():\n",
    "    mujoco_env.step()\n",
    "    mujoco_env.render()"
   ]
  }
 ],
 "metadata": {
  "kernelspec": {
   "display_name": "mujoco301Python310",
   "language": "python",
   "name": "python3"
  },
  "language_info": {
   "codemirror_mode": {
    "name": "ipython",
    "version": 3
   },
   "file_extension": ".py",
   "mimetype": "text/x-python",
   "name": "python",
   "nbconvert_exporter": "python",
   "pygments_lexer": "ipython3",
   "version": "3.10.13"
  }
 },
 "nbformat": 4,
 "nbformat_minor": 2
}

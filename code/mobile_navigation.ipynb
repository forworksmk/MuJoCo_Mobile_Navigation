{
 "cells": [
  {
   "cell_type": "code",
   "execution_count": 1,
   "metadata": {},
   "outputs": [
    {
     "name": "stdout",
     "output_type": "stream",
     "text": [
      "MuJoCo:[3.1.6]\n"
     ]
    }
   ],
   "source": [
    "import mujoco,sys,time\n",
    "import numpy as np\n",
    "import matplotlib.pyplot as plt\n",
    "sys.path.append('../package/helper/')\n",
    "sys.path.append('../package/mujoco_usage/')\n",
    "sys.path.append('./src')\n",
    "from mujoco_parser import *\n",
    "from transformation import *\n",
    "from slider import *\n",
    "from utility import *\n",
    "from goal_tracking import GoalTracking\n",
    "from path_tracker import PathTracker_2D\n",
    "\n",
    "np.set_printoptions(precision=2,suppress=True,linewidth=100)\n",
    "plt.rc('xtick',labelsize=6); plt.rc('ytick',labelsize=6)\n",
    "%config InlineBackend.figure_format = 'retina'\n",
    "%matplotlib inline\n",
    "print (\"MuJoCo:[%s]\"%(mujoco.__version__))"
   ]
  },
  {
   "cell_type": "code",
   "execution_count": 2,
   "metadata": {},
   "outputs": [
    {
     "name": "stdout",
     "output_type": "stream",
     "text": [
      "name:[Tabletop] dt:[0.002] HZ:[500]\n",
      "n_qpos:[9] n_qvel:[8] n_qacc:[8] n_ctrl:[2]\n",
      "\n",
      "n_body:[18]\n",
      " [0/18] [world] mass:[0.00]kg\n",
      " [1/18] [base_kobuki] mass:[2.00]kg\n",
      " [2/18] [d435i_mount] mass:[0.00]kg\n",
      " [3/18] [realsense] mass:[0.00]kg\n",
      " [4/18] [d435i] mass:[0.11]kg\n",
      " [5/18] [wheel_left_link] mass:[0.10]kg\n",
      " [6/18] [wheel_right_link] mass:[0.10]kg\n",
      " [7/18] [front_wheel_fake] mass:[0.10]kg\n",
      " [8/18] [rear_wheel_fake] mass:[0.10]kg\n",
      " [9/18] [floor] mass:[960.00]kg\n",
      " [10/18] [wall_horizon_1] mass:[320.00]kg\n",
      " [11/18] [wall_horizon_2] mass:[160.00]kg\n",
      " [12/18] [wall_horizon_3] mass:[160.00]kg\n",
      " [13/18] [wall_horizon_4] mass:[320.00]kg\n",
      " [14/18] [wall_vertical_1] mass:[160.00]kg\n",
      " [15/18] [wall_vertical_2] mass:[160.00]kg\n",
      " [16/18] [wall_vertical_3] mass:[160.00]kg\n",
      " [17/18] [wall_vertical_4] mass:[160.00]kg\n",
      "body_total_mass:[2562.51]kg\n",
      "\n",
      "n_geom:[24]\n",
      "geom_names:[None, None, None, None, None, None, None, None, None, None, None, None, None, None, None, 'floor_geom', 'wall_horizon_1_geom', 'wall_horizon_2_geom', 'wall_horizon_3_geom', 'wall_horizon_4_geom', 'wall_vertical_1_geom', 'wall_vertical_2_geom', 'wall_vertical_3_geom', 'wall_vertical_4_geom']\n",
      "\n",
      "n_joint:[3]\n",
      " [0/3] [base_kobuki_joint] axis:[0. 0. 1.]\n",
      " [1/3] [wheel_left_joint] axis:[0. 0. 1.]\n",
      " [2/3] [wheel_right_joint] axis:[0. 0. 1.]\n",
      "\n",
      "n_dof:[8] (=number of rows of Jacobian)\n",
      " [0/8] [None] attached joint:[base_kobuki_joint] body:[base_kobuki]\n",
      " [1/8] [None] attached joint:[base_kobuki_joint] body:[base_kobuki]\n",
      " [2/8] [None] attached joint:[base_kobuki_joint] body:[base_kobuki]\n",
      " [3/8] [None] attached joint:[base_kobuki_joint] body:[base_kobuki]\n",
      " [4/8] [None] attached joint:[base_kobuki_joint] body:[base_kobuki]\n",
      " [5/8] [None] attached joint:[base_kobuki_joint] body:[base_kobuki]\n",
      " [6/8] [None] attached joint:[wheel_left_joint] body:[wheel_left_link]\n",
      " [7/8] [None] attached joint:[wheel_right_joint] body:[wheel_right_link]\n",
      "\n",
      "Free joint information. n_free_joint:[1]\n",
      " [0/1] [base_kobuki_joint] body_name_attached:[base_kobuki]\n",
      "\n",
      "Revolute joint information. n_rev_joint:[2]\n",
      " [0/2] [wheel_left_joint] range:[0.000]~[0.000]\n",
      " [1/2] [wheel_right_joint] range:[0.000]~[0.000]\n",
      "\n",
      "Prismatic joint information. n_pri_joint:[0]\n",
      "\n",
      "Control information. n_ctrl:[2]\n",
      " [0/2] [wheel_left_actuator] range:[-20.000]~[20.000] gear:[1.00] type:[JOINT]\n",
      " [1/2] [wheel_right_actuator] range:[-20.000]~[20.000] gear:[1.00] type:[JOINT]\n",
      "\n",
      "n_sensor:[0]\n",
      "sensor_names:[]\n",
      "n_site:[0]\n",
      "site_names:[]\n",
      "Done.\n"
     ]
    }
   ],
   "source": [
    "preprocessed_xml_name = \"../xml/scene.xml\"\n",
    "mujoco_env = MuJoCoParserClass(name='Tabletop',rel_xml_path=preprocessed_xml_name,verbose=True)\n",
    "print (\"Done.\")\n",
    "\n",
    "render_HZ = 50\n",
    "render_dt = 1./render_HZ\n",
    "t_render = time.time()\n",
    "t_render_prev = time.time()\n",
    "\n",
    "# Reset\n",
    "np.random.seed(seed=0)\n",
    "mujoco_env.reset()"
   ]
  },
  {
   "cell_type": "code",
   "execution_count": 3,
   "metadata": {},
   "outputs": [],
   "source": [
    "nav = GoalTracking(k_p=1.5, k_i=0, k_d=0.1, speed=15, tolerance=0.05, yaw_tolerance=np.pi/30)\n",
    "\n",
    "current_yaw = r2rpy(mujoco_env.get_R_body(\"base_kobuki\"))[2]\n",
    "init_pos = mujoco_env.get_p_body(body_name=\"base_kobuki\")[:2].copy()\n",
    "init_yaw = r2rpy(mujoco_env.get_R_body(\"base_kobuki\"))[2].copy()\n",
    "target_yaw = init_yaw.copy()\n",
    "ctrl_wheel_idxs = [0,1]\n",
    "ctrl_wheel = None"
   ]
  },
  {
   "cell_type": "code",
   "execution_count": 4,
   "metadata": {},
   "outputs": [],
   "source": [
    "# Loop\n",
    "mujoco_env.init_viewer(title='None',\n",
    "                transparent=False,distance=3.0)\n",
    "\n",
    "# path\n",
    "robot_path = [[-1,-2,0],[-1,0,0],[1,0,0],[1,2,0]]\n",
    "mujoco_env.set_p_base_body(body_name='base_kobuki',p=np.array([-1,-2,0]))\n",
    "mujoco_env.forward()\n",
    "path_tracker = PathTracker_2D(robot_path,0.1,0.05,\"base_kobuki\",mujoco_env)\n",
    "\n",
    "# for camera angle\n",
    "mujoco_env.set_viewer(\n",
    "    distance  = 7.5,\n",
    "    azimuth   = 179,\n",
    "    elevation = -75,\n",
    "    lookat    = [0.01,0.11,0.5],\n",
    "    update    = True,\n",
    ")"
   ]
  },
  {
   "cell_type": "code",
   "execution_count": null,
   "metadata": {},
   "outputs": [
    {
     "ename": "",
     "evalue": "",
     "output_type": "error",
     "traceback": [
      "\u001b[1;31mThe Kernel crashed while executing code in the current cell or a previous cell. \n",
      "\u001b[1;31mPlease review the code in the cell(s) to identify a possible cause of the failure. \n",
      "\u001b[1;31mClick <a href='https://aka.ms/vscodeJupyterKernelCrash'>here</a> for more info. \n",
      "\u001b[1;31mView Jupyter <a href='command:jupyter.viewOutput'>log</a> for further details."
     ]
    }
   ],
   "source": [
    "while mujoco_env.is_viewer_alive():\n",
    "    current_pos = mujoco_env.get_p_body(\"base_kobuki\")[:2].copy()\n",
    "    current_yaw = r2rpy(mujoco_env.get_R_body(\"base_kobuki\"))[2]\n",
    "    target_pos = path_tracker.get_target_pos()\n",
    "    \n",
    "    if target_pos is None:\n",
    "        break\n",
    "    else:\n",
    "        target_pos = target_pos[:2]\n",
    "        ctrl_wheel = nav.compute_ctrl_wheel(mujoco_env.get_sim_time(),\n",
    "                                        current_pos,\n",
    "                                        target_pos,\n",
    "                                        current_yaw,\n",
    "                                        None,\n",
    "                                        )\n",
    "        path_tracker.visualize_path()\n",
    "        mujoco_env.step(ctrl=ctrl_wheel, ctrl_idxs= ctrl_wheel_idxs)\n",
    "        mujoco_env.render()\n",
    "\n",
    "mujoco_env.close_viewer()"
   ]
  }
 ],
 "metadata": {
  "kernelspec": {
   "display_name": "mujoco301Python310",
   "language": "python",
   "name": "python3"
  },
  "language_info": {
   "codemirror_mode": {
    "name": "ipython",
    "version": 3
   },
   "file_extension": ".py",
   "mimetype": "text/x-python",
   "name": "python",
   "nbconvert_exporter": "python",
   "pygments_lexer": "ipython3",
   "version": "3.10.13"
  }
 },
 "nbformat": 4,
 "nbformat_minor": 2
}
